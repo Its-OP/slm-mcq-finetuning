{
 "cells": [
  {
   "cell_type": "code",
   "id": "6e63a7eb-b729-4192-9c11-beeea4f999f0",
   "metadata": {
    "ExecuteTime": {
     "end_time": "2025-03-18T21:01:06.726084Z",
     "start_time": "2025-03-18T21:01:06.723716Z"
    }
   },
   "source": [
    "import ollama\n",
    "from ollama import chat\n",
    "from ollama import ChatResponse\n",
    "from pydantic import BaseModel\n",
    "import json\n",
    "import pandas as pd"
   ],
   "outputs": [],
   "execution_count": 39
  },
  {
   "cell_type": "code",
   "id": "914e1bb5-e7d4-40e5-a1be-a6e76772067e",
   "metadata": {
    "ExecuteTime": {
     "end_time": "2025-03-18T21:01:06.889969Z",
     "start_time": "2025-03-18T21:01:06.737149Z"
    }
   },
   "source": "df = pd.read_csv(\"../data/lisa_sheets.csv\")",
   "outputs": [],
   "execution_count": 40
  },
  {
   "cell_type": "code",
   "id": "ddc5a711-18a3-463f-9b9f-601365bfb871",
   "metadata": {
    "ExecuteTime": {
     "end_time": "2025-03-18T21:01:06.897561Z",
     "start_time": "2025-03-18T21:01:06.896037Z"
    }
   },
   "source": "file_path = \"../data/train_test_split/test_folders.json\"",
   "outputs": [],
   "execution_count": 41
  },
  {
   "cell_type": "code",
   "id": "6c0dca29-b79d-4c38-99f3-2b91cf8dfefa",
   "metadata": {
    "ExecuteTime": {
     "end_time": "2025-03-18T21:01:06.904941Z",
     "start_time": "2025-03-18T21:01:06.903122Z"
    }
   },
   "source": [
    "with open(file_path, \"r\", encoding=\"utf-8\") as file:\n",
    "    test_folders = json.load(file)"
   ],
   "outputs": [],
   "execution_count": 42
  },
  {
   "cell_type": "code",
   "id": "a812fdfc-7dd4-4d2b-b253-88bfe75bbd02",
   "metadata": {
    "ExecuteTime": {
     "end_time": "2025-03-18T21:01:06.915104Z",
     "start_time": "2025-03-18T21:01:06.910219Z"
    }
   },
   "source": "df_test = df[df.folder.isin(test_folders)]",
   "outputs": [],
   "execution_count": 43
  },
  {
   "cell_type": "code",
   "id": "3f0a9d28-75ca-4103-b386-20719c7b2d16",
   "metadata": {
    "ExecuteTime": {
     "end_time": "2025-03-18T21:01:06.924159Z",
     "start_time": "2025-03-18T21:01:06.920180Z"
    }
   },
   "source": [
    "class MCQQuestion(BaseModel):\n",
    "    question: str\n",
    "    option_a: str\n",
    "    option_b: str\n",
    "    option_c: str\n",
    "    option_d: str\n",
    "    correct_option: str"
   ],
   "outputs": [],
   "execution_count": 44
  },
  {
   "cell_type": "code",
   "id": "031afb2c-29c3-4082-92e9-7ec881fb8cfb",
   "metadata": {
    "ExecuteTime": {
     "end_time": "2025-03-18T21:01:06.930827Z",
     "start_time": "2025-03-18T21:01:06.929622Z"
    }
   },
   "source": [],
   "outputs": [],
   "execution_count": null
  },
  {
   "cell_type": "code",
   "id": "eec0bced-8731-44a9-9b7a-64eec62afd6f",
   "metadata": {
    "ExecuteTime": {
     "end_time": "2025-03-18T21:01:06.938225Z",
     "start_time": "2025-03-18T21:01:06.936249Z"
    }
   },
   "source": [
    "from ollama import generate\n",
    "\n",
    "def generate_mcq(content, model_name, temperature):\n",
    "    prompt = f\"\"\"\n",
    "    Based on the following educational content, generate a multiple-choice question with four answer \n",
    "    options where only one is correct. The question should assess understanding of the main ideas, \n",
    "    and the options should be clear, informative, and relevant. Ensure that the distractors (incorrect options) \n",
    "    follow a logical but incorrect interpretation, based on common misconceptions or misunderstandings of the topic.\n",
    "    Answer options must be as short as possible.\n",
    "\n",
    "    **Educational Content**\n",
    "    {content}\n",
    "    \"\"\"\n",
    "    \n",
    "    generate_params = {\n",
    "        'model': model_name,\n",
    "        'options': {'temperature': temperature, 'num_ctx': 8192, 'top_p': 1}, \n",
    "        'prompt': prompt,\n",
    "        'format': MCQQuestion.model_json_schema()\n",
    "    }\n",
    "    \n",
    "    # Get a response\n",
    "    response = generate(**generate_params)\n",
    "    \n",
    "    return response['response']"
   ],
   "outputs": [],
   "execution_count": 45
  },
  {
   "cell_type": "code",
   "id": "341b8fff-0fcb-487c-bb07-ff1c42942f17",
   "metadata": {
    "ExecuteTime": {
     "end_time": "2025-03-18T22:16:33.162039Z",
     "start_time": "2025-03-18T21:01:06.945415Z"
    }
   },
   "source": [
    "%%time\n",
    "df_test['generated_questions_0.1'] = df_test['content_gpt'].apply(\n",
    "    lambda content: generate_mcq(content, model_name=\"llama3.2:1b-instruct-q8_0\", temperature=0.1)\n",
    ")"
   ],
   "outputs": [
    {
     "name": "stdout",
     "output_type": "stream",
     "text": [
      "CPU times: user 5.07 s, sys: 978 ms, total: 6.05 s\n",
      "Wall time: 1h 15min 26s\n"
     ]
    },
    {
     "name": "stderr",
     "output_type": "stream",
     "text": [
      "<timed exec>:1: SettingWithCopyWarning: \n",
      "A value is trying to be set on a copy of a slice from a DataFrame.\n",
      "Try using .loc[row_indexer,col_indexer] = value instead\n",
      "\n",
      "See the caveats in the documentation: https://pandas.pydata.org/pandas-docs/stable/user_guide/indexing.html#returning-a-view-versus-a-copy\n"
     ]
    }
   ],
   "execution_count": 46
  },
  {
   "metadata": {
    "ExecuteTime": {
     "end_time": "2025-03-19T04:34:28.746869Z",
     "start_time": "2025-03-18T22:16:33.458520Z"
    }
   },
   "cell_type": "code",
   "source": [
    "%%time\n",
    "df_test['generated_questions_0.5'] = df_test['content_gpt'].apply(\n",
    "    lambda content: generate_mcq(content, model_name=\"llama3.2:1b-instruct-q8_0\", temperature=0.5)\n",
    ")"
   ],
   "id": "e0f38f24144201f3",
   "outputs": [
    {
     "name": "stdout",
     "output_type": "stream",
     "text": [
      "CPU times: user 4.84 s, sys: 795 ms, total: 5.64 s\n",
      "Wall time: 6h 17min 55s\n"
     ]
    },
    {
     "name": "stderr",
     "output_type": "stream",
     "text": [
      "<timed exec>:1: SettingWithCopyWarning: \n",
      "A value is trying to be set on a copy of a slice from a DataFrame.\n",
      "Try using .loc[row_indexer,col_indexer] = value instead\n",
      "\n",
      "See the caveats in the documentation: https://pandas.pydata.org/pandas-docs/stable/user_guide/indexing.html#returning-a-view-versus-a-copy\n"
     ]
    }
   ],
   "execution_count": 47
  },
  {
   "cell_type": "code",
   "id": "52aff97c-7f0a-4995-af11-af790010feb0",
   "metadata": {
    "ExecuteTime": {
     "end_time": "2025-03-19T05:53:46.719131Z",
     "start_time": "2025-03-19T04:34:30.319587Z"
    }
   },
   "source": [
    "%%time\n",
    "df_test['generated_questions_0.7'] = df_test['content_gpt'].apply(\n",
    "    lambda content: generate_mcq(content, model_name=\"llama3.2:1b-instruct-q8_0\", temperature=0.7)\n",
    ")"
   ],
   "outputs": [
    {
     "name": "stdout",
     "output_type": "stream",
     "text": [
      "CPU times: user 4.03 s, sys: 519 ms, total: 4.55 s\n",
      "Wall time: 1h 19min 16s\n"
     ]
    },
    {
     "name": "stderr",
     "output_type": "stream",
     "text": [
      "<timed exec>:1: SettingWithCopyWarning: \n",
      "A value is trying to be set on a copy of a slice from a DataFrame.\n",
      "Try using .loc[row_indexer,col_indexer] = value instead\n",
      "\n",
      "See the caveats in the documentation: https://pandas.pydata.org/pandas-docs/stable/user_guide/indexing.html#returning-a-view-versus-a-copy\n"
     ]
    }
   ],
   "execution_count": 48
  },
  {
   "cell_type": "code",
   "id": "028082bc-a6b2-4f88-b137-806ae07fe581",
   "metadata": {
    "ExecuteTime": {
     "end_time": "2025-03-19T05:53:47.026149Z",
     "start_time": "2025-03-19T05:53:47.020904Z"
    }
   },
   "source": [
    "from pydantic import ValidationError"
   ],
   "outputs": [],
   "execution_count": 49
  },
  {
   "cell_type": "code",
   "id": "f4b5abb3-0aa3-42b1-921a-f72e04a19e5e",
   "metadata": {
    "scrolled": true,
    "ExecuteTime": {
     "end_time": "2025-03-19T05:53:47.695934Z",
     "start_time": "2025-03-19T05:53:47.691367Z"
    }
   },
   "source": [
    "def validate_mcq(mcq_json):\n",
    "    try:\n",
    "        return MCQQuestion.model_validate_json(mcq_json)\n",
    "    except ValidationError as e:\n",
    "        print(f\"Validation failed: {e}\")\n",
    "        return None\n",
    "        \n"
   ],
   "outputs": [],
   "execution_count": 50
  },
  {
   "cell_type": "code",
   "id": "06515d3a-7092-4c5f-a508-662f689b2f51",
   "metadata": {
    "scrolled": true,
    "ExecuteTime": {
     "end_time": "2025-03-19T05:53:47.800754Z",
     "start_time": "2025-03-19T05:53:47.779918Z"
    }
   },
   "source": [
    "df_test[\"validated_mcq_0.7\"] = df_test['generated_questions_0.7'].apply(validate_mcq)"
   ],
   "outputs": [
    {
     "name": "stderr",
     "output_type": "stream",
     "text": [
      "/var/folders/3h/4m1vqy852_70vf2_f2m79r4r0000gn/T/ipykernel_20193/1137343090.py:1: SettingWithCopyWarning: \n",
      "A value is trying to be set on a copy of a slice from a DataFrame.\n",
      "Try using .loc[row_indexer,col_indexer] = value instead\n",
      "\n",
      "See the caveats in the documentation: https://pandas.pydata.org/pandas-docs/stable/user_guide/indexing.html#returning-a-view-versus-a-copy\n",
      "  df_test[\"validated_mcq_0.7\"] = df_test['generated_questions_0.7'].apply(validate_mcq)\n"
     ]
    }
   ],
   "execution_count": 51
  },
  {
   "cell_type": "code",
   "id": "3cd57ce5-7719-47b8-857b-8ed08e783403",
   "metadata": {
    "ExecuteTime": {
     "end_time": "2025-03-19T05:53:47.908152Z",
     "start_time": "2025-03-19T05:53:47.883988Z"
    }
   },
   "source": "df_test[\"validated_mcq_0.5\"] = df_test['generated_questions_0.5'].apply(validate_mcq)",
   "outputs": [
    {
     "name": "stdout",
     "output_type": "stream",
     "text": [
      "Validation failed: 1 validation error for MCQQuestion\n",
      "  Invalid JSON: EOF while parsing a string at line 1 column 1647587 [type=json_invalid, input_value='{\"question\":\"What is the...one replacement therapy', input_type=str]\n",
      "    For further information visit https://errors.pydantic.dev/2.10/v/json_invalid\n"
     ]
    },
    {
     "name": "stderr",
     "output_type": "stream",
     "text": [
      "/var/folders/3h/4m1vqy852_70vf2_f2m79r4r0000gn/T/ipykernel_20193/3814923815.py:1: SettingWithCopyWarning: \n",
      "A value is trying to be set on a copy of a slice from a DataFrame.\n",
      "Try using .loc[row_indexer,col_indexer] = value instead\n",
      "\n",
      "See the caveats in the documentation: https://pandas.pydata.org/pandas-docs/stable/user_guide/indexing.html#returning-a-view-versus-a-copy\n",
      "  df_test[\"validated_mcq_0.5\"] = df_test['generated_questions_0.5'].apply(validate_mcq)\n"
     ]
    }
   ],
   "execution_count": 52
  },
  {
   "metadata": {
    "ExecuteTime": {
     "end_time": "2025-03-19T05:53:48.048935Z",
     "start_time": "2025-03-19T05:53:48.038646Z"
    }
   },
   "cell_type": "code",
   "source": "df_test[\"validated_mcq_0.1\"] = df_test['generated_questions_0.1'].apply(validate_mcq)",
   "id": "1b7a7365470aea5e",
   "outputs": [
    {
     "name": "stderr",
     "output_type": "stream",
     "text": [
      "/var/folders/3h/4m1vqy852_70vf2_f2m79r4r0000gn/T/ipykernel_20193/2179734582.py:1: SettingWithCopyWarning: \n",
      "A value is trying to be set on a copy of a slice from a DataFrame.\n",
      "Try using .loc[row_indexer,col_indexer] = value instead\n",
      "\n",
      "See the caveats in the documentation: https://pandas.pydata.org/pandas-docs/stable/user_guide/indexing.html#returning-a-view-versus-a-copy\n",
      "  df_test[\"validated_mcq_0.1\"] = df_test['generated_questions_0.1'].apply(validate_mcq)\n"
     ]
    }
   ],
   "execution_count": 53
  },
  {
   "metadata": {
    "ExecuteTime": {
     "end_time": "2025-03-19T05:53:48.209206Z",
     "start_time": "2025-03-19T05:53:48.084506Z"
    }
   },
   "cell_type": "code",
   "source": "df_test.to_csv('llama1b_mcqs.csv', index=False)",
   "id": "c6afcce105b0cae6",
   "outputs": [],
   "execution_count": 54
  },
  {
   "metadata": {
    "ExecuteTime": {
     "end_time": "2025-03-19T20:52:17.209318Z",
     "start_time": "2025-03-19T20:52:17.206275Z"
    }
   },
   "cell_type": "code",
   "source": [
    "from pandas import DataFrame\n",
    "\n",
    "def flatten_and_export_mcq(df: DataFrame, export_filename: str, mcq_column_name: str):\n",
    "    result_df = df[['id']].copy()\n",
    "    \n",
    "    result_df['question'] = df[mcq_column_name].apply(lambda x: x.question)\n",
    "    result_df['option_a'] = df[mcq_column_name].apply(lambda x: x.option_a)\n",
    "    result_df['option_b'] = df[mcq_column_name].apply(lambda x: x.option_b)\n",
    "    result_df['option_c'] = df[mcq_column_name].apply(lambda x: x.option_c)\n",
    "    result_df['option_d'] = df[mcq_column_name].apply(lambda x: x.option_d)\n",
    "    result_df['correct_option'] = df[mcq_column_name].apply(lambda x: x.correct_option)\n",
    "    \n",
    "    result_df.to_csv(export_filename, index=False)"
   ],
   "id": "8c3e56d1cf2ee800",
   "outputs": [],
   "execution_count": 58
  },
  {
   "metadata": {
    "ExecuteTime": {
     "end_time": "2025-03-19T20:59:53.248610Z",
     "start_time": "2025-03-19T20:59:53.224396Z"
    }
   },
   "cell_type": "code",
   "source": [
    "flatten_and_export_mcq(df_test, '../data/base_models/llama1b/temp0.7.csv', 'validated_mcq_0.7')\n",
    "flatten_and_export_mcq(df_test, '../data/base_models/llama1b/temp0.5.csv', 'validated_mcq_0.5')\n",
    "flatten_and_export_mcq(df_test, '../data/base_models/llama1b/temp0.1.csv', 'validated_mcq_0.1')"
   ],
   "id": "9ad880f3dd6aa5",
   "outputs": [],
   "execution_count": 68
  },
  {
   "metadata": {
    "ExecuteTime": {
     "end_time": "2025-03-19T20:59:47.761354Z",
     "start_time": "2025-03-19T20:59:47.758779Z"
    }
   },
   "cell_type": "code",
   "source": [
    "# One-liner version\n",
    "df_test[df_test['validated_mcq_0.5'].isna()].index.tolist()"
   ],
   "id": "60846270a3af6491",
   "outputs": [
    {
     "data": {
      "text/plain": [
       "[]"
      ]
     },
     "execution_count": 67,
     "metadata": {},
     "output_type": "execute_result"
    }
   ],
   "execution_count": 67
  },
  {
   "metadata": {
    "ExecuteTime": {
     "end_time": "2025-03-19T20:59:43.332217Z",
     "start_time": "2025-03-19T20:59:43.327888Z"
    }
   },
   "cell_type": "code",
   "source": [
    "empty_mcq = MCQQuestion(\n",
    "    question=\"\",\n",
    "    option_a=\"\",\n",
    "    option_b=\"\",\n",
    "    option_c=\"\",\n",
    "    option_d=\"\",\n",
    "    correct_option=\"\"\n",
    ")\n",
    "\n",
    "# Set the value at the specified index\n",
    "df_test.at[3742, 'validated_mcq_0.5'] = empty_mcq"
   ],
   "id": "f196d28c675f9e3d",
   "outputs": [],
   "execution_count": 66
  },
  {
   "metadata": {},
   "cell_type": "code",
   "outputs": [],
   "execution_count": null,
   "source": "",
   "id": "6d0cfcbfaad534bd"
  }
 ],
 "metadata": {
  "kernelspec": {
   "display_name": "Python 3 (ipykernel)",
   "language": "python",
   "name": "python3"
  },
  "language_info": {
   "codemirror_mode": {
    "name": "ipython",
    "version": 3
   },
   "file_extension": ".py",
   "mimetype": "text/x-python",
   "name": "python",
   "nbconvert_exporter": "python",
   "pygments_lexer": "ipython3",
   "version": "3.12.8"
  }
 },
 "nbformat": 4,
 "nbformat_minor": 5
}
